{
 "cells": [
  {
   "cell_type": "markdown",
   "id": "658aceaa-72b2-4e8d-82e2-31f11f57e3bc",
   "metadata": {},
   "source": [
    "# ridge regression "
   ]
  },
  {
   "cell_type": "code",
   "execution_count": 8,
   "id": "021526e7-75b2-4ce2-b663-25d504ff7bd4",
   "metadata": {},
   "outputs": [
    {
     "name": "stdout",
     "output_type": "stream",
     "text": [
      "Alpha: 0.01\n",
      "Coefficients: [ 0.00302191  0.0320341   0.04845694  0.00025417 -0.00044898 -0.00205889\n",
      "  0.         -0.03638937  0.03611166  0.01588019 -0.0050418   0.06352301\n",
      "  0.00333902 -0.00434043 -0.00569536  0.00132025]\n",
      "R-squared: 0.0952680234658645\n",
      "\n",
      "Alpha: 0.1\n",
      "Coefficients: [ 0.00302165  0.03202767  0.04843737  0.0002542  -0.00044932 -0.0020563\n",
      "  0.         -0.03638933  0.03591851  0.01585936 -0.00505614  0.06347435\n",
      "  0.00333901 -0.00434399 -0.0056999   0.00131377]\n",
      "R-squared: 0.09526722882446437\n",
      "\n",
      "Alpha: 1\n",
      "Coefficients: [ 0.00301915  0.03196313  0.04824203  0.00025453 -0.00045258 -0.00203082\n",
      "  0.         -0.03638721  0.03408653  0.01565658 -0.0051951   0.06299871\n",
      "  0.00333864 -0.0043786  -0.00574451  0.00125065]\n",
      "R-squared: 0.09525905577054317\n",
      "\n",
      "Alpha: 10\n",
      "Coefficients: [ 0.00299783  0.0313096   0.0463431   0.00025756 -0.00048154 -0.00181078\n",
      "  0.         -0.03624876  0.0222215   0.01401231 -0.0062681   0.0590134\n",
      "  0.00331894 -0.00464524 -0.00612559  0.00074059]\n",
      "R-squared: 0.09516316451516815\n",
      "\n",
      "Alpha: 100\n",
      "Coefficients: [ 0.00286862  0.02556718  0.03309533  0.00027678 -0.00065525 -0.00059292\n",
      "  0.         -0.03284066  0.00389504  0.00711586 -0.00922571  0.03988121\n",
      "  0.00296209 -0.00500726 -0.00744189 -0.0009689 ]\n",
      "R-squared: 0.09388947446267526\n",
      "\n",
      "Alpha: 1000\n",
      "Coefficients: [ 0.00246171  0.00871634  0.00888321  0.00031789 -0.00105812  0.00096231\n",
      "  0.         -0.01454039  0.00027291  0.00041655 -0.00478786  0.0115181\n",
      "  0.00152784 -0.0017319  -0.0048022  -0.00061563]\n",
      "R-squared: 0.08692723291243654\n",
      "\n",
      "     Alpha  R-squared                                       Coefficients\n",
      "0     0.01   0.095268  [0.0030219078542553877, 0.03203410219642819, 0...\n",
      "1     0.10   0.095267  [0.003021652240682031, 0.032027666338089456, 0...\n",
      "2     1.00   0.095259  [0.0030191502741644034, 0.031963130391721155, ...\n",
      "3    10.00   0.095163  [0.0029978254740158626, 0.0313095992816253, 0....\n",
      "4   100.00   0.093889  [0.0028686214290658753, 0.025567178357592174, ...\n",
      "5  1000.00   0.086927  [0.0024617128898256333, 0.008716344837716274, ...\n"
     ]
    }
   ],
   "source": [
    "import pandas as pd\n",
    "import numpy as np\n",
    "from sklearn.model_selection import train_test_split\n",
    "from sklearn.linear_model import Ridge\n",
    "from sklearn.metrics import r2_score\n",
    "\n",
    "data = pd.read_csv('healthcare-dataset-stroke-data.csv')\n",
    "\n",
    "data = data.drop(columns=['id'])\n",
    "data = pd.get_dummies(data, columns=['gender', 'ever_married', 'work_type', 'Residence_type', 'smoking_status'], drop_first=True)\n",
    "data['bmi'] = data['bmi'].fillna(data['bmi'].mean())\n",
    "\n",
    "X = data.drop(columns=['stroke'])\n",
    "y = data['stroke']\n",
    "\n",
    "X_train, X_test, y_train, y_test = train_test_split(X, y, test_size=0.2, random_state=42)\n",
    "\n",
    "alphas = [0.01, 0.1, 1, 10, 100, 1000]\n",
    "coefficients = []\n",
    "r2_scores = []\n",
    "\n",
    "# train\n",
    "for alpha in alphas:\n",
    "    ridge = Ridge(alpha=alpha)\n",
    "    ridge.fit(X_train, y_train)\n",
    "    \n",
    "    coefficients.append(ridge.coef_)\n",
    "    r2_scores.append(r2_score(y_test, ridge.predict(X_test)))\n",
    "    \n",
    "    print(f\"Alpha: {alpha}\")\n",
    "    print(\"Coefficients:\", ridge.coef_)\n",
    "    print(\"R-squared:\", r2_scores[-1])\n",
    "    print(\"\")\n",
    "\n",
    "# show as a table\n",
    "results = pd.DataFrame({\n",
    "    'Alpha': alphas,\n",
    "    'R-squared': r2_scores,\n",
    "    'Coefficients': coefficients\n",
    "})\n",
    "\n",
    "print(results)"
   ]
  },
  {
   "cell_type": "markdown",
   "id": "4426a86f-b68f-40e6-8856-c590392e961e",
   "metadata": {},
   "source": [
    "# quadratic reg"
   ]
  },
  {
   "cell_type": "code",
   "execution_count": 12,
   "id": "654a5c22-9aca-4263-88f6-02efcad9b1f1",
   "metadata": {},
   "outputs": [
    {
     "name": "stdout",
     "output_type": "stream",
     "text": [
      "R-squared value on the training set: 0.1077\n"
     ]
    }
   ],
   "source": [
    "import pandas as pd\n",
    "import numpy as np\n",
    "import matplotlib.pyplot as plt\n",
    "from sklearn.model_selection import train_test_split\n",
    "from sklearn.linear_model import LinearRegression\n",
    "from sklearn.preprocessing import PolynomialFeatures\n",
    "from sklearn.pipeline import Pipeline\n",
    "from sklearn.impute import SimpleImputer\n",
    "\n",
    "data = pd.read_csv('healthcare-dataset-stroke-data.csv')\n",
    "\n",
    "X = data.drop(columns=['id', 'stroke'])\n",
    "y = data['stroke']\n",
    "\n",
    "categorical_cols = ['gender', 'work_type', 'Residence_type', 'smoking_status']\n",
    "numerical_cols = ['age', 'hypertension', 'heart_disease', 'avg_glucose_level', 'bmi']\n",
    "\n",
    "preprocessor = ColumnTransformer(\n",
    "    transformers=[\n",
    "        ('num', Pipeline(steps=[\n",
    "            ('imputer', SimpleImputer(strategy='mean')),\n",
    "            ('scaler', StandardScaler())]), numerical_cols),\n",
    "        ('cat', OneHotEncoder(), categorical_cols)\n",
    "    ]\n",
    ")\n",
    "\n",
    "poly = PolynomialFeatures(degree=2)\n",
    "\n",
    "model = Pipeline(steps=[\n",
    "    ('preprocessor', preprocessor),\n",
    "    ('poly', poly),\n",
    "    ('linear', LinearRegression())\n",
    "])\n",
    "\n",
    "X_train, X_test, y_train, y_test = train_test_split(X, y, test_size=0.2, random_state=42)\n",
    "\n",
    "# train\n",
    "model.fit(X_train, y_train)\n",
    "\n",
    "train_r_squared = model.score(X_train, y_train)\n",
    "print(f'R-squared value on the training set: {train_r_squared:.4f}')"
   ]
  },
  {
   "cell_type": "code",
   "execution_count": null,
   "id": "2facf6bd-c7ee-491e-bab9-df86dcedde7e",
   "metadata": {},
   "outputs": [],
   "source": []
  }
 ],
 "metadata": {
  "kernelspec": {
   "display_name": "Python 3 (ipykernel)",
   "language": "python",
   "name": "python3"
  },
  "language_info": {
   "codemirror_mode": {
    "name": "ipython",
    "version": 3
   },
   "file_extension": ".py",
   "mimetype": "text/x-python",
   "name": "python",
   "nbconvert_exporter": "python",
   "pygments_lexer": "ipython3",
   "version": "3.12.5"
  }
 },
 "nbformat": 4,
 "nbformat_minor": 5
}
